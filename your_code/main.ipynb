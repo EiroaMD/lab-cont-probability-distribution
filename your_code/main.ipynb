{
 "cells": [
  {
   "cell_type": "markdown",
   "metadata": {},
   "source": [
    "# Before your start:\n",
    "\n",
    "    Read the README.md file\n",
    "    Comment as much as you can and use the resources (README.md file)\n",
    "    Happy learning!"
   ]
  },
  {
   "cell_type": "markdown",
   "metadata": {},
   "source": [
    "In this exercise, we  will generate random numbers from the continuous disributions we learned in the lesson. There are two ways to generate random numbers:\n",
    "\n",
    "1. Using the numpy library \n",
    "1. using the Scipy library \n",
    "\n",
    "Use either or both of the lbraries in this exercise."
   ]
  },
  {
   "cell_type": "code",
   "execution_count": 14,
   "metadata": {
    "ExecuteTime": {
     "end_time": "2019-08-27T18:40:26.741756Z",
     "start_time": "2019-08-27T18:40:26.242775Z"
    }
   },
   "outputs": [],
   "source": [
    "# Basic pandas and numpy\n",
    "import pandas as pd\n",
    "import numpy as np\n",
    " \n",
    "# Basic visualization tools\n",
    "import seaborn as sns\n",
    "import matplotlib.pyplot as plt\n",
    "%matplotlib inline\n",
    " \n",
    "# Pandas defaults\n",
    "pd.options.display.max_columns = 500\n",
    "pd.options.display.max_rows = 500"
   ]
  },
  {
   "cell_type": "code",
   "execution_count": 15,
   "metadata": {
    "ExecuteTime": {
     "end_time": "2019-08-27T18:40:29.083389Z",
     "start_time": "2019-08-27T18:40:29.077805Z"
    }
   },
   "outputs": [],
   "source": [
    "import scipy"
   ]
  },
  {
   "cell_type": "markdown",
   "metadata": {},
   "source": [
    "## Uniform Distribution\n",
    "\n",
    "To generate uniform random numbers between any two given values using scipy, we can either use the following code or the code that we have\n",
    "discussed in class:"
   ]
  },
  {
   "cell_type": "code",
   "execution_count": 4,
   "metadata": {
    "ExecuteTime": {
     "end_time": "2019-08-27T18:34:44.597893Z",
     "start_time": "2019-08-27T18:34:44.431079Z"
    }
   },
   "outputs": [
    {
     "name": "stdout",
     "output_type": "stream",
     "text": [
      "[2.18512047 2.47064536 2.21604574 2.17965125 2.23144283 2.74493849\n",
      " 2.79338327 2.48656398 2.39093783 2.97448736]\n"
     ]
    }
   ],
   "source": [
    "from scipy.stats import uniform\n",
    "x = uniform.rvs(size=10)\n",
    "a = 2\n",
    "b = 3\n",
    "randoms  = a + (b-a)*x\n",
    "print(randoms)"
   ]
  },
  {
   "cell_type": "markdown",
   "metadata": {},
   "source": [
    "**Your task:**\n",
    "\n",
    "1. Based on the code above, write a function that generates uniformly distributed random numbers. There are several requirements for your function:\n",
    "    * It should accept 3 parameters: \n",
    "        * `bottom` - the lower boundary of the generated numbers\n",
    "        * `ceiling` - the upper boundary of the generated numbers\n",
    "        * `count` - how many numbers to generate\n",
    "    * It should return an array of uniformly distributed random numbers\n",
    "\n",
    "1. Call your function with 2 sets of params below:\n",
    "    * bottom=10, ceiling=15, count=100\n",
    "    * bottom=10, ceiling=60, count=1,000\n",
    "\n",
    "1. Plot the uniform distributions generated above using histograms, where x axis is the value and y axis is the count. Let the histogram's number of bins be 10."
   ]
  },
  {
   "cell_type": "code",
   "execution_count": 24,
   "metadata": {
    "ExecuteTime": {
     "end_time": "2019-08-27T18:49:08.614187Z",
     "start_time": "2019-08-27T18:49:08.604996Z"
    }
   },
   "outputs": [],
   "source": [
    "def uniform_gen(bottom, ceiling, count):\n",
    "    x = uniform.rvs(size=count)\n",
    "    randoms  = ceiling + (ceiling-bottom)*x\n",
    "    return randoms"
   ]
  },
  {
   "cell_type": "code",
   "execution_count": 12,
   "metadata": {
    "ExecuteTime": {
     "end_time": "2019-08-27T18:38:10.546279Z",
     "start_time": "2019-08-27T18:38:10.536154Z"
    }
   },
   "outputs": [
    {
     "data": {
      "text/plain": [
       "array([18.1013753 , 16.12304559, 18.78046488, 15.73025887, 17.64899152,\n",
       "       17.61293044, 17.03533256, 18.3001787 , 16.12066853, 17.82484949,\n",
       "       16.82459959, 19.57451514, 15.2231545 , 16.11021033, 15.76678472,\n",
       "       16.36818801, 18.66437823, 18.10001978, 16.67170455, 15.45871614,\n",
       "       17.33034665, 17.73562634, 15.61639505, 15.6328997 , 15.26238971,\n",
       "       15.39708715, 19.77787379, 19.51062714, 19.62580366, 18.1031083 ,\n",
       "       17.84598188, 15.04444024, 19.93519543, 18.64330942, 17.19115918,\n",
       "       19.4074082 , 19.69976023, 19.45410886, 16.94409692, 15.86547603,\n",
       "       15.52050675, 19.75662907, 19.07557557, 18.47640353, 15.35735414,\n",
       "       15.31938949, 19.69285274, 18.26877184, 16.13435137, 16.5831965 ,\n",
       "       19.29612105, 17.37842504, 18.1564872 , 16.50177701, 15.70267486,\n",
       "       16.66477715, 19.05828021, 17.12904376, 17.59894654, 17.05346578,\n",
       "       18.75470968, 16.8105783 , 18.15490437, 18.78119981, 17.79784211,\n",
       "       18.64488488, 15.04156723, 19.38525536, 18.199765  , 19.54987211,\n",
       "       16.83172182, 18.2623466 , 15.82493241, 16.29552377, 16.22115365,\n",
       "       15.76544287, 19.95372941, 17.3322168 , 18.85294437, 16.52975607,\n",
       "       19.62010642, 16.42379981, 15.94701546, 17.86150783, 18.44719373,\n",
       "       19.77329824, 18.0047598 , 17.24061054, 15.06768971, 17.51224455,\n",
       "       16.10359394, 15.89195945, 15.19056051, 18.9939549 , 18.51322916,\n",
       "       16.74142398, 16.12537146, 18.51815785, 18.10869812, 15.35019141])"
      ]
     },
     "execution_count": 12,
     "metadata": {},
     "output_type": "execute_result"
    }
   ],
   "source": [
    "a = uniform_gen(10, 15, 100)\n",
    "a"
   ]
  },
  {
   "cell_type": "code",
   "execution_count": 18,
   "metadata": {
    "ExecuteTime": {
     "end_time": "2019-08-27T18:41:12.605653Z",
     "start_time": "2019-08-27T18:41:12.581476Z"
    }
   },
   "outputs": [
    {
     "data": {
      "text/plain": [
       "array([ 96.33746324,  64.83547498,  92.64838337,  70.37638475,\n",
       "        73.87611568,  75.56559087,  60.45355302, 101.48318237,\n",
       "        87.70667523,  64.72651466,  74.43085734, 107.98042369,\n",
       "       103.52841969,  81.48996783,  99.57330775,  70.89650203,\n",
       "        69.35538971,  85.41905168,  98.85933644,  89.39512967,\n",
       "        84.66311911,  69.78798005, 103.83177326,  76.54843619,\n",
       "       105.86230326, 107.01474763,  98.34161194,  61.98841258,\n",
       "        91.2429402 , 106.81626166,  74.87958572,  97.35934786,\n",
       "        89.79461939,  96.54285561,  82.30315279, 104.07067299,\n",
       "        68.95856556,  84.74814888,  78.78169258,  78.26965231,\n",
       "        96.92196585,  97.33170668,  82.82796874,  87.46960906,\n",
       "        68.36153774,  97.90985703,  71.99314762,  69.69829691,\n",
       "        96.78653481,  81.37865746,  92.70223399,  93.85446051,\n",
       "       100.73407964, 104.18370541, 107.15051647,  89.44674369,\n",
       "        95.14604593,  91.44657222, 109.26653395, 101.72771328,\n",
       "        89.10253844,  95.52222984, 108.55930507,  77.1835916 ,\n",
       "        63.16310681,  61.86058396,  70.74628733, 103.62484942,\n",
       "        64.6864987 ,  96.41561372,  69.8173744 , 107.38263005,\n",
       "        78.41748809,  72.64057281,  96.89800802,  68.8157802 ,\n",
       "        84.67953087, 105.35919475,  77.23011727,  82.59288717,\n",
       "       100.19561621,  65.50272302,  61.71999643, 108.46826248,\n",
       "        68.03793204,  91.14571539,  76.62716561,  92.68887515,\n",
       "        92.97218414,  74.0864216 , 108.44955868,  93.26211446,\n",
       "        81.1054133 , 104.6000447 ,  91.68819643,  68.30171096,\n",
       "       103.93165521, 107.17782283,  68.3955653 ,  65.75395767,\n",
       "       102.9948965 ,  89.23439125,  92.32227994,  76.59254954,\n",
       "        96.41101596,  88.70047198, 104.935514  ,  78.72211622,\n",
       "        63.70052566,  63.75409245,  96.3921424 ,  85.01173833,\n",
       "        68.66262881,  98.97430224,  96.01993569,  60.00225885,\n",
       "        63.3359075 , 108.2901857 ,  91.40829054, 105.73658977,\n",
       "        93.51391053,  69.01029017, 106.45243214,  68.64336357,\n",
       "       102.26243445,  81.17354119,  85.22253428,  77.53593354,\n",
       "       108.4577928 ,  98.09148814,  96.41732613,  86.92791336,\n",
       "        72.74682917,  63.05355054,  84.45463336,  81.45817821,\n",
       "       104.32129491,  99.34673978,  68.33106472,  74.46079929,\n",
       "        92.13669848,  71.90571733,  68.36341694,  72.81315821,\n",
       "       101.37306624,  60.46082073, 107.81699216, 109.83331173,\n",
       "        97.95971014,  92.42085015,  98.39358991,  75.4320068 ,\n",
       "        85.83459333, 103.01991159,  94.38583633,  66.04419038,\n",
       "        66.94608008,  97.31182174,  64.43709805,  79.68102022,\n",
       "        69.90745892,  99.91772184,  81.8364491 ,  64.74866642,\n",
       "       107.60026274,  78.52879267, 102.18927677,  82.6833324 ,\n",
       "        89.32278562,  76.59654707, 100.23113727, 104.81007909,\n",
       "        83.50872323,  68.67258629, 107.73940989,  62.64541503,\n",
       "        62.00324712,  83.38736734,  61.70635584,  95.45328956,\n",
       "        64.0400795 ,  66.81232165, 102.80776615, 105.64483426,\n",
       "        74.31992794,  63.98601342,  93.14790635,  67.92670411,\n",
       "        80.15038529,  96.2026935 ,  92.51409573,  70.73146238,\n",
       "        96.70478933,  78.12072437, 107.87593602, 103.4140202 ,\n",
       "        81.83616237,  78.40577982,  92.42595589,  68.43310085,\n",
       "        72.24658853,  86.83317671,  89.64960786,  67.23405776,\n",
       "        97.06906494,  99.6048787 ,  76.91239246,  83.03125021,\n",
       "       105.55834379,  68.82706263,  78.86439027,  83.13752372,\n",
       "        71.17331191,  64.75388149,  72.22503473,  89.99043295,\n",
       "        90.2614288 ,  95.75286499,  77.38484497, 105.34857999,\n",
       "        96.13719793,  65.6208789 ,  98.22834922,  70.6339418 ,\n",
       "        81.67624721,  88.33943389, 102.28649448,  70.43130835,\n",
       "        63.5027678 , 109.11062607,  84.31605068,  96.79398023,\n",
       "        65.90506411,  74.83254489,  63.80530775,  64.70694615,\n",
       "       102.83628984,  86.00774828, 102.80729037,  69.68331404,\n",
       "        72.02947779, 103.01664813,  80.00972832,  87.56246881,\n",
       "        67.98196353,  85.09390559, 108.64983015,  89.93272401,\n",
       "       107.54681141,  62.99237542,  96.00006383,  77.37269218,\n",
       "        83.15093417, 103.3327317 ,  69.67642412,  62.90330315,\n",
       "       100.18948493,  82.55226016, 102.4104584 ,  73.26621714,\n",
       "        85.40703082,  63.8759501 ,  79.86972563,  91.9729363 ,\n",
       "       109.55155606,  68.64993778, 105.94221256, 108.76595916,\n",
       "        87.95290602,  67.56989958,  80.5245748 ,  79.15291266,\n",
       "        60.23826798,  80.15095035, 102.16356401,  75.61456967,\n",
       "       106.04073589,  60.99576824,  80.77557252, 101.24236065,\n",
       "        74.63281589,  81.07400983, 100.09913454,  93.41231019,\n",
       "        91.88494415,  66.41479407,  62.29757348,  74.76903376,\n",
       "        81.93755597, 103.21582409,  80.70635979,  76.21660374,\n",
       "        78.81962738,  89.20670035,  81.50569557,  95.97173681,\n",
       "        63.45835507,  94.11453167,  63.20238596,  84.7175738 ,\n",
       "        89.68144267, 104.13671369, 108.60390133,  61.30981586,\n",
       "        68.95205532,  74.67217282,  91.6125725 ,  85.28080485,\n",
       "        67.03615182,  63.29885138, 102.99142375,  83.87975362,\n",
       "        98.05530664, 106.41406748,  73.05549756,  63.29414095,\n",
       "        60.19405633,  79.01232917,  92.62716529,  98.98840463,\n",
       "       106.42051629,  60.48809379,  92.7206946 ,  65.01915128,\n",
       "        75.63437841,  82.54765148,  90.82072328,  73.11662874,\n",
       "        80.01649034,  95.35947294, 109.75434903,  84.72234781,\n",
       "        63.53405739,  70.96982389,  67.35190743, 108.46660424,\n",
       "        67.25448561,  75.75963514,  93.23550708,  67.65443607,\n",
       "        71.20592166,  73.5894266 ,  69.72366447,  70.17248201,\n",
       "        71.10264765, 105.35760164,  91.51090939, 100.58019852,\n",
       "       103.5160246 ,  99.98091029, 108.67526809,  78.43861669,\n",
       "       107.72504233,  83.1668838 ,  98.34210261,  92.2684963 ,\n",
       "        91.2776879 ,  87.51799521, 108.28009827,  85.83964539,\n",
       "        94.95902267,  99.99449611, 101.59057871,  73.15634329,\n",
       "       102.72045028, 104.27985825,  82.8656811 ,  89.52571908,\n",
       "       100.05951677, 105.13494368,  94.40709265,  99.5001529 ,\n",
       "        85.72550352,  90.70367617,  88.90942354,  72.3072904 ,\n",
       "       100.21783543,  99.2540005 ,  83.18559887, 102.13181053,\n",
       "        60.11528374,  73.718181  , 103.55073231,  64.55461932,\n",
       "        60.96429201,  97.5334636 ,  98.37046447,  84.67118134,\n",
       "        81.25188215,  68.52615044,  70.75322418,  66.45674695,\n",
       "        78.20013851,  64.30944165,  71.08012835,  92.09222294,\n",
       "        94.36091079, 103.08148157,  79.44763073, 107.48039877,\n",
       "        97.86050076,  89.43320504,  67.89297329, 100.44860503,\n",
       "       103.49245164,  70.70825316,  94.16985463,  95.80356104,\n",
       "       101.98450515,  82.18487684,  72.07019322, 107.78723552,\n",
       "        83.90254249,  69.45403819, 100.27351409,  72.06892893,\n",
       "       103.86092159,  68.85917561,  72.52348054, 102.30458812,\n",
       "       107.56424394,  80.75114501,  64.02023128,  77.17186064,\n",
       "        92.9543801 , 103.14809334,  81.98960605,  91.57793907,\n",
       "       107.30049593,  75.1343366 , 108.98164849,  75.11352547,\n",
       "        79.5153624 ,  84.7321729 ,  89.96784939, 102.16681453,\n",
       "       102.44330369,  79.66869426,  83.08004924,  95.43635385,\n",
       "       100.28596764, 101.45096511,  80.93212364, 102.50808209,\n",
       "        87.2673979 , 102.51683405,  63.12703103,  91.51649215,\n",
       "        72.54285813,  62.72271633,  85.23570646,  94.23997833,\n",
       "        78.15168306,  95.8120097 ,  81.55753262,  77.34392501,\n",
       "        66.56857976, 109.91217897, 106.10780312,  94.21431237,\n",
       "        79.82585979, 106.07454352,  78.3123588 ,  87.36770044,\n",
       "       103.96718156,  71.8804348 ,  60.71422591,  96.21549395,\n",
       "        87.04251396,  60.98392035,  68.36682243,  78.44305464,\n",
       "        71.12771515,  74.86498724,  81.36879401, 104.8370736 ,\n",
       "        63.78170998,  85.40919561,  97.72448085, 108.61736974,\n",
       "       108.21899041,  92.97048743,  75.23904327,  62.97481738,\n",
       "        99.5416059 ,  99.27321718,  85.14870579,  69.34661018,\n",
       "        73.78966724,  80.64819394,  79.56670951, 108.17686517,\n",
       "        69.84143847, 108.42476287,  64.27510192,  70.3141385 ,\n",
       "        81.7322524 ,  66.91299601,  72.86468181,  72.60657455,\n",
       "        89.80329732, 104.4703798 ,  64.82352481,  99.65855374,\n",
       "       107.81862294,  96.18923717, 102.33275227,  87.40490796,\n",
       "       109.04336434,  65.33998925,  94.41642856,  98.97756654,\n",
       "        88.46971408,  74.8566317 ,  93.68889238, 100.55468563,\n",
       "        93.59613996,  99.82461038,  63.40311652,  78.18971063,\n",
       "        69.51064096,  86.14299706, 107.88994084,  71.6508279 ,\n",
       "        92.76976843,  97.34862145,  90.09128745,  98.04988152,\n",
       "       100.67368365,  66.664297  ,  83.36923749,  89.78989738,\n",
       "        82.36573249, 105.78165378,  81.33464699, 105.61954404,\n",
       "        62.6721424 , 106.12382884,  73.98581916,  86.60387692,\n",
       "       101.45334372,  77.13142677,  91.29524708,  93.63319917,\n",
       "        66.98147312, 104.56772338, 104.66047174,  69.41961943,\n",
       "        80.30897301, 107.11464739,  83.61210778, 106.58349065,\n",
       "        70.64083097,  81.24718065,  63.00135174, 100.50032953,\n",
       "        99.47938827,  76.18544016,  65.30466807,  68.27168394,\n",
       "        74.73417797,  92.65405506,  61.41975013,  62.45903811,\n",
       "        96.98524192,  63.38155438,  80.64834103,  88.27968714,\n",
       "        90.98948141,  87.59965474, 107.7899258 ,  97.11782455,\n",
       "        72.59897718,  84.71392388,  88.64293523,  86.70229009,\n",
       "       104.48704048, 103.57922471,  96.29101875,  66.13853939,\n",
       "        66.72358178,  69.86618443,  83.67160508,  74.96114669,\n",
       "        97.71730182,  61.10544843, 105.27388078, 104.13837265,\n",
       "        64.92126325,  82.57750084, 109.62745251, 101.36995741,\n",
       "        93.65586419,  74.18526413, 107.23622919, 104.13558745,\n",
       "       109.153827  ,  66.29242051,  64.36360179,  82.10559697,\n",
       "        89.0436636 , 102.62405205, 101.96139487,  68.26594763,\n",
       "        63.52014293,  80.59878635, 102.63651071,  63.42166912,\n",
       "       109.53267656, 103.42593752,  77.743012  ,  89.15331907,\n",
       "        93.90773022,  93.15325198,  84.80836495,  94.08592327,\n",
       "       109.95947919,  81.10062292, 108.68053958,  77.81776107,\n",
       "        60.59774532, 104.07924468,  81.30802763,  83.55745582,\n",
       "        70.69413519, 103.89868129,  81.28320333,  65.18594124,\n",
       "        99.16605873,  67.21657939,  86.87238596,  62.47052722,\n",
       "        92.58793603, 107.16890399, 107.41885383,  63.92663691,\n",
       "        78.52545833,  77.16157798,  93.74455553, 102.05314041,\n",
       "        67.78811634, 100.70427807,  76.30350306,  80.45351267,\n",
       "        91.3150476 ,  89.8762925 ,  83.36426272,  79.06256796,\n",
       "       109.24910455,  97.07257599,  80.91279775,  70.89964983,\n",
       "        97.69843784, 109.24619779,  96.89300663, 100.54042399,\n",
       "        62.7698048 ,  81.31103559,  90.07750589,  78.94238132,\n",
       "        70.80024457,  82.83339683,  71.36575175,  79.88233335,\n",
       "        89.46856143,  83.21310673,  81.43511449,  90.19691978,\n",
       "        97.66828187,  83.8981458 , 106.87772428,  98.15620384,\n",
       "        82.5622529 ,  60.36600105,  73.80214781,  91.2623931 ,\n",
       "        68.39933647,  88.78888184,  77.17789335,  76.95053202,\n",
       "        86.30284037,  94.4221    ,  91.71116495,  65.44381731,\n",
       "        82.53835063,  71.18524687,  60.02340184,  65.93232832,\n",
       "       105.66134943,  63.93932174,  79.46192516,  82.4515745 ,\n",
       "        78.6119152 ,  65.3478705 , 104.80725831,  87.31603096,\n",
       "        73.92000228,  68.7493044 ,  89.67055711,  85.07199849,\n",
       "        82.76803045,  69.58727833,  74.01750728,  90.27891705,\n",
       "        89.11792552,  74.52091055,  64.73171497,  65.59456067,\n",
       "       102.7309866 ,  86.56793397,  77.63499083,  69.44140698,\n",
       "       101.6616324 ,  75.48670624,  61.5118174 ,  76.73523447,\n",
       "        76.98516399, 103.33753176,  78.04322451,  83.49741944,\n",
       "        87.00951025,  94.83182246,  78.3962174 , 104.28221791,\n",
       "        78.37258636, 103.35296359, 103.03481374,  61.08646192,\n",
       "       106.85984799,  87.81818977,  73.27753863,  71.03724044,\n",
       "        71.11430544,  64.55643694,  83.89205021,  80.34140846,\n",
       "        90.28971185,  66.24002612,  69.21166963,  60.0346339 ,\n",
       "        64.78636034,  93.94671522,  97.15761927,  64.87540099,\n",
       "        80.72270769,  92.59255396,  95.62354454, 107.30291844,\n",
       "        71.90940854,  77.90182958,  87.47375373,  97.88230928,\n",
       "        86.36797235,  75.84440511,  93.25503729,  71.7687736 ,\n",
       "        82.94542033, 106.662873  , 104.00025905, 103.26319229,\n",
       "        75.13766063,  77.7059391 , 109.47928533,  69.82068372,\n",
       "        87.8761956 ,  62.16630091,  99.81872119,  77.08809345,\n",
       "       105.66378003,  66.81442781, 106.38807752,  63.48235205,\n",
       "        68.91840808,  85.49161434,  61.01959015,  72.81379993,\n",
       "        80.33834489,  70.35696028,  76.82020062,  64.75206493,\n",
       "       109.45676173,  90.99514475,  74.38650284, 101.55850769,\n",
       "       104.65051631,  86.15474363,  91.81909614,  85.06762146,\n",
       "        92.78414775, 106.52903167,  93.35810534,  80.84886843,\n",
       "        71.40997499, 102.40568816,  93.03669873,  79.39250576,\n",
       "        69.2705442 ,  92.65650043,  91.5164965 ,  74.12627888,\n",
       "        68.75933949,  64.64181383,  91.7114944 ,  72.64870789,\n",
       "        90.29115693,  65.4511049 ,  75.5508413 ,  92.13353553,\n",
       "        71.39332224,  82.3127149 ,  86.71890373, 103.57070276,\n",
       "        68.43335503,  92.99045884,  93.41444214,  68.30291612,\n",
       "        99.2690336 ,  90.91358077,  61.43050733,  80.33809639,\n",
       "        91.66138373, 101.58872412,  86.79820823,  96.56807181,\n",
       "        72.16963869,  74.48611607, 107.26422531,  62.55216973,\n",
       "        95.75270211,  79.35388351,  85.79921506,  75.60548437,\n",
       "        70.76189456,  82.91244015,  73.00346527,  97.85815723,\n",
       "        99.51452484,  74.05829627,  61.92181851,  74.46925732,\n",
       "        78.45771348,  71.38105627, 101.69941233,  66.91145809,\n",
       "        61.04242726,  70.6052457 , 108.09549939,  73.03208482,\n",
       "        83.52784237,  76.40655887, 108.46933935,  93.92409277,\n",
       "        90.86942842,  69.58765647,  76.19520643,  87.641742  ,\n",
       "        96.70333032,  63.39558928,  80.28455972,  94.06181061,\n",
       "        88.13151246,  99.04254271,  98.56127021,  96.60305233,\n",
       "        78.79137591, 106.97715784, 106.62518944,  71.46074393,\n",
       "        74.49051694,  62.31438042,  91.1023525 ,  71.27283289,\n",
       "        66.30555805,  78.38379888,  64.86013481, 106.30397475,\n",
       "        71.08735869, 102.50864357,  65.44083119,  70.42684514,\n",
       "        72.42170517,  82.70031896, 106.3544346 ,  65.6438601 ,\n",
       "        82.21912388, 107.85008558,  62.51162136,  66.48863689,\n",
       "        60.6321853 ,  99.75580254,  89.55906045,  90.78044821,\n",
       "        64.52738078,  90.07925993, 104.42442685,  88.89659319,\n",
       "        61.84238219, 100.94631332, 105.32458498,  92.96529093,\n",
       "        76.05815532,  85.90264787,  77.85624266,  89.81986892,\n",
       "        91.71023235,  98.39526036,  66.21106293, 106.09518845,\n",
       "        64.2047499 ,  68.18008021,  98.77212253,  94.70833085,\n",
       "        84.34567256,  67.72378358,  89.30346259,  99.8165708 ,\n",
       "        97.49067043,  87.98052407,  82.05571934,  88.75196366,\n",
       "        85.39715786,  94.81682565,  96.89941673, 107.66466393,\n",
       "        79.50784478, 102.54082915,  68.35122158,  88.22728837,\n",
       "        81.24801827,  66.23722165,  63.97512008,  71.6652226 ,\n",
       "        74.49677446,  89.51746131,  94.29545292,  95.30100304,\n",
       "       101.00085699,  79.30334609,  90.44993872, 104.34527997,\n",
       "        80.215657  ,  94.02341826,  98.01879217,  96.70938469,\n",
       "        66.64025769,  91.83846081,  79.92147361, 108.3873062 ,\n",
       "       104.51192374,  86.27885149,  97.83551319,  67.81557822,\n",
       "        79.66854304,  64.76506924,  97.48871939,  69.93085262,\n",
       "        84.79736502,  86.30024898, 109.89876559, 109.85160423,\n",
       "        69.13595344, 104.57033232,  66.77193262,  79.01209738,\n",
       "       106.92719062,  97.72013104, 108.21686957,  64.3501056 ,\n",
       "        68.17016274,  90.40413656,  66.51935942, 100.75689036,\n",
       "        61.91456321,  98.08423508,  70.22902009,  74.16619073,\n",
       "       101.99516773,  92.51650063,  91.79776257,  73.87972792,\n",
       "        81.14610451, 105.84957994, 107.01389017,  91.24862428,\n",
       "       104.5475496 ,  94.17681514,  93.38527502,  89.0984389 ,\n",
       "        69.3012716 ,  82.47789976, 107.00067588, 101.46500834,\n",
       "        94.41970681,  80.95286737,  60.55589159,  69.0890608 ,\n",
       "        91.71949175,  68.28771658,  82.31653882,  63.8985158 ])"
      ]
     },
     "execution_count": 18,
     "metadata": {},
     "output_type": "execute_result"
    }
   ],
   "source": [
    "b = uniform_gen(10,60,1000)\n",
    "b"
   ]
  },
  {
   "cell_type": "code",
   "execution_count": 23,
   "metadata": {
    "ExecuteTime": {
     "end_time": "2019-08-27T18:42:46.956617Z",
     "start_time": "2019-08-27T18:42:46.649652Z"
    }
   },
   "outputs": [
    {
     "data": {
      "image/png": "[encoded data removed]",
      "text/plain": [
       "<Figure size 1008x504 with 2 Axes>"
      ]
     },
     "metadata": {
      "needs_background": "light"
     },
     "output_type": "display_data"
    }
   ],
   "source": [
    "f, [ax1, ax2] = plt.subplots(1, 2, figsize=(14,7))\n",
    "plt.sca(ax1)\n",
    "plt.hist(a, bins=10)\n",
    "\n",
    "plt.sca(ax2)\n",
    "plt.hist(b, bins=10)\n",
    "\n",
    "plt.show()"
   ]
  },
  {
   "cell_type": "markdown",
   "metadata": {},
   "source": [
    "How are the two distributions different?"
   ]
  },
  {
   "cell_type": "code",
   "execution_count": 3,
   "metadata": {
    "ExecuteTime": {
     "end_time": "2019-08-02T06:07:54.812745Z",
     "start_time": "2019-08-02T06:07:54.810660Z"
    }
   },
   "outputs": [],
   "source": [
    "# X-axis depending on ceiling, number of obs in each bin depending on n"
   ]
  },
  {
   "cell_type": "markdown",
   "metadata": {},
   "source": [
    "## Normal Distribution\n",
    "\n",
    "1. In the same way in the Uniform Distribution challenge, write a function that generates normally distributed random numbers.\n",
    "1. Generate 1,000 normally distributed numbers with the average of 10 and standard deviation of 1\n",
    "1. Generate 1,000 normally distributed numbers with the average of 10 and standard deviation of 50\n",
    "2. Plot the distributions of the data generated."
   ]
  },
  {
   "cell_type": "code",
   "execution_count": 25,
   "metadata": {
    "ExecuteTime": {
     "end_time": "2019-08-27T18:49:45.291245Z",
     "start_time": "2019-08-27T18:49:45.283575Z"
    }
   },
   "outputs": [],
   "source": [
    "def norm_gen(mean, std, count):\n",
    "    x = np.random.normal(loc=mean, scale=std, size=count)\n",
    "    return x"
   ]
  },
  {
   "cell_type": "code",
   "execution_count": 26,
   "metadata": {
    "ExecuteTime": {
     "end_time": "2019-08-27T18:50:13.685696Z",
     "start_time": "2019-08-27T18:50:13.661867Z"
    }
   },
   "outputs": [
    {
     "data": {
      "text/plain": [
       "array([ 8.55979696,  7.04923538, 10.72796183,  9.37799781,  8.70077079,\n",
       "        9.84961681,  8.38727766, 10.4864954 ,  8.95200792,  8.93350855,\n",
       "        9.75729383,  9.39370626,  9.06512729,  9.93464954,  6.40650737,\n",
       "        9.54763544, 11.4419843 ,  9.94204516,  9.95580234,  9.60523329,\n",
       "       10.99490371,  9.85694627,  9.83854219, 10.51271628,  9.68637756,\n",
       "       10.80979008,  9.16167549,  9.96842354, 10.79398334,  8.94158498,\n",
       "       11.92985872, 10.20223484, 11.88798085,  8.79616132, 10.51766454,\n",
       "        9.06680014,  9.03722342, 11.43559362,  9.79241762, 11.26924472,\n",
       "       10.73168505,  9.8437107 ,  9.99515413,  9.83287844, 10.72919366,\n",
       "       10.07579227,  9.39610013,  7.72123425, 10.46867204, 10.27342782,\n",
       "        8.59624592, 10.9634429 , 11.04967858,  9.35310488, 10.94472222,\n",
       "       10.21850136, 10.33072745,  9.36182727, 10.29496046, 10.96862235,\n",
       "        9.58402836,  8.32247372,  7.91890749,  8.26347197, 10.25927513,\n",
       "       10.40909363, 10.2660416 , 10.81965032,  8.44223386, 12.52658804,\n",
       "        7.81864527, 10.42061411,  9.0182321 , 10.13274655, 10.06165224,\n",
       "       10.96099891,  8.36294913,  8.41388035, 11.85839177, 10.30673623,\n",
       "        9.81273163,  9.90464281,  9.99451271,  9.72691601,  9.54859852,\n",
       "        9.36157213,  8.93128248,  9.6838555 ,  9.16892603, 10.34664968,\n",
       "        9.08860098,  8.07835429, 10.10912039, 10.06353471,  9.73453658,\n",
       "       12.4056601 ,  9.50889114,  9.3154419 ,  9.81944783, 10.10804921,\n",
       "       10.49659031,  9.90921891, 10.54105969,  8.78962216, 10.52434317,\n",
       "       10.32970758, 10.88050258, 10.24296615, 11.23945232, 10.34049493,\n",
       "       10.59861831,  9.48569684,  9.01384731, 10.33201781,  9.20861136,\n",
       "       10.71829072, 10.37613338, 11.21827688,  9.44850556,  7.71310463,\n",
       "       10.23727724, 10.66200369, 11.00557404,  9.78679046, 10.14656982,\n",
       "       11.49089948,  7.27323493, 10.72298192, 10.29338916,  9.18589724,\n",
       "        8.83353465, 10.95195045, 12.03292486, 12.22034709, 10.37779531,\n",
       "       10.50421878, 10.75682251,  9.68602468, 12.53978693, 10.97183707,\n",
       "       10.91736335,  8.81595269, 11.97748209, 10.16048542,  8.46389573,\n",
       "       10.09573781, 11.93600612, 10.04333381, 10.39606482,  9.57086427,\n",
       "        7.66734806, 11.02371756,  9.27679618, 11.10197555,  9.24144935,\n",
       "        9.50088343,  7.6671511 , 11.03434734,  9.08180103,  9.92951267,\n",
       "       10.39579605,  9.81510228,  9.22580906, 10.78890857, 10.81865579,\n",
       "        9.82385178, 11.7206469 ,  9.48657998,  9.68101497, 11.34819303,\n",
       "        9.00122205, 10.81630269,  9.71131786, 10.38241182, 12.26459087,\n",
       "       10.14570836, 10.3677272 , 11.27568448, 11.96351721,  8.28978127,\n",
       "        9.3385951 , 10.11447409,  8.54382207,  9.35610124,  9.92730826,\n",
       "       10.52625494, 10.03870928, 10.3122072 ,  7.6956834 ,  9.61840049,\n",
       "       10.5906461 ,  9.47469319,  8.03748384, 11.44185032, 11.09957551,\n",
       "       11.55875102, 10.1418282 ,  9.66301286, 10.33752968, 10.06085159,\n",
       "       10.93036813, 11.17182431,  9.66709768, 10.438991  , 10.16240135,\n",
       "       10.43508701,  9.72557311,  8.85431647, 10.89605901,  9.12070956,\n",
       "       10.31394224,  9.76191279, 11.62772152,  8.17218097, 10.1397371 ,\n",
       "        9.28519122,  9.93899234, 11.37121987,  9.67511219, 10.85994103,\n",
       "       10.60395259,  9.33335207, 10.85970626,  8.73385697, 11.10506557,\n",
       "        9.71558063,  9.87217302, 10.47455496, 10.3166382 ,  8.60313117,\n",
       "        9.53005094, 10.98560242,  9.81079982,  7.69689733, 10.57535298,\n",
       "        8.60255374,  9.49981034,  9.84837399, 10.78604962, 10.24492621,\n",
       "       11.14970192, 10.00117774, 10.8384062 ,  8.89125473,  9.65580738,\n",
       "       10.11269559,  8.91094995,  9.99935875,  9.8656231 , 12.38344005,\n",
       "        9.35501415,  9.87004532, 11.30993486,  9.85343997, 11.34363021,\n",
       "        8.16059997,  9.44544401, 10.47349631, 10.54398862, 11.40867816,\n",
       "       11.07237357, 10.42266925, 10.63362329,  8.81421567, 11.34972392,\n",
       "       11.21668229,  9.91855838, 10.57962821,  8.35917652,  9.88392627,\n",
       "       10.33107419,  9.78301689,  8.36662498,  8.86135815, 10.51377507,\n",
       "       10.62021367,  8.86181521, 10.37583089, 10.99018661, 10.36173453,\n",
       "        9.74151171,  8.36759057, 10.4894625 ,  8.93127624, 11.60586231,\n",
       "        9.4260724 , 10.43937392,  9.77425735, 10.37530501,  9.51498943,\n",
       "        9.94543933, 10.22777877, 10.6254572 ,  8.22297262,  8.7295573 ,\n",
       "       10.76678387,  8.7132298 ,  9.52412868, 10.84135659,  9.81501166,\n",
       "        9.79215187,  8.89823819,  9.67866002,  9.1941825 , 10.31695257,\n",
       "        9.53168068, 10.1898316 , 11.22429469, 10.36685888,  8.92830487,\n",
       "       11.29309588, 10.47915013, 11.57321678,  8.68200648, 10.1610473 ,\n",
       "       10.61097662, 11.00096137, 11.05026394, 10.41166025,  9.58371546,\n",
       "       10.70255835, 10.8135369 ,  9.95264027,  9.73629728,  9.91073529,\n",
       "       11.17444076,  8.96814142, 11.33662174, 10.92124261,  9.57816165,\n",
       "        9.7476542 ,  9.79071134,  9.25172183,  8.33447136,  9.62183909,\n",
       "        9.22983224,  9.79756188, 10.56987778, 10.54725856, 10.50287908,\n",
       "        9.36954432,  9.35668671,  9.22988795, 10.3566233 , 10.55535489,\n",
       "       11.27926884,  8.25326367, 11.07410204,  9.09734161, 10.26661139,\n",
       "       10.134562  ,  8.8148426 , 12.46370457, 10.61916277,  9.59484694,\n",
       "       10.47653181, 12.31568059,  9.19141078,  9.80401916, 11.11267054,\n",
       "       11.25619233, 10.00552338,  9.43465059, 10.36484737, 10.36625724,\n",
       "       10.24747866,  8.50294643, 10.18933673,  9.84951064, 10.91985221,\n",
       "        9.47931948,  9.41702572,  8.23265497, 10.77062041,  9.97943199,\n",
       "       10.45835597, 10.70390684, 10.62534473,  7.70716058, 12.96275159,\n",
       "        9.88186606, 11.79542836,  7.80863243, 12.44925409,  8.95713036,\n",
       "        9.90952206,  9.09911986, 10.19219247,  8.46198321,  8.7303516 ,\n",
       "       10.59574399,  9.84037413,  9.91454086, 10.28534269,  8.52000583,\n",
       "       10.83272048, 10.3770036 , 11.79119233, 10.08595114,  9.67947004,\n",
       "       10.60863408, 10.09848848, 10.9240102 , 11.33556747,  9.18999528,\n",
       "        9.4596373 ,  9.70795035,  9.85760904, 11.87742848, 12.13473956,\n",
       "        8.78499704,  8.97789907, 10.75335785,  9.23404475,  9.1137878 ,\n",
       "       10.87773655, 10.38742981, 10.20076085, 10.57219581, 10.47208208,\n",
       "       10.30143525, 11.5647901 , 10.86870438,  9.05309285, 10.68395079,\n",
       "        9.6440779 ,  9.13170331,  9.1803209 , 10.00625707, 10.94043311,\n",
       "       11.37821448, 10.43510032,  8.29131583, 10.30315292,  9.06541893,\n",
       "        9.63809477, 10.09011916,  8.56853942, 10.49434553, 11.13430651,\n",
       "       10.86197179, 11.10653127,  8.55270614, 10.65902382,  9.82939437,\n",
       "       10.13539049,  9.07440485,  9.04999274,  9.18247989,  9.28801452,\n",
       "        9.83597957,  9.5098456 , 10.75848421,  9.93614694, 10.79350126,\n",
       "       12.50051671,  9.2854226 , 11.0470913 ,  8.60985526,  9.51276157,\n",
       "        9.28765592,  9.76354064, 10.3739433 , 10.1530205 , 11.73480395,\n",
       "        8.87488359, 10.26526447, 10.50209395, 10.55737424, 10.29244681,\n",
       "       10.18534109,  9.34620415,  9.25871127,  8.11789816,  9.90481751,\n",
       "       10.53152338,  9.85017097, 11.68083372,  9.66088294,  9.56557173,\n",
       "        8.64063333, 11.24995561,  9.59593406,  9.19258079, 11.94346257,\n",
       "        9.54276191, 10.1680168 , 10.46285108,  9.9504859 , 10.11242203,\n",
       "        9.81756911,  8.66693048,  8.99729298,  9.81902015,  9.11472918,\n",
       "        9.06185769,  9.32321267, 11.42937024, 10.5794193 , 10.8274542 ,\n",
       "        9.66311703, 10.00777421, 10.31890101,  8.29290603,  9.03841572,\n",
       "        9.65663345,  7.78670953,  9.67735715,  8.95817423, 11.00651912,\n",
       "        9.57489846, 10.78471735, 10.89604422,  9.617316  , 10.75054864,\n",
       "        8.8379589 , 10.54574075,  8.78195298,  9.68540342, 10.17868063,\n",
       "       11.64384289,  9.86461996,  9.59524963,  9.98436352, 10.43728679,\n",
       "       10.18746188,  9.62081218,  8.29538865, 11.77889073,  9.6604314 ,\n",
       "        9.68403362,  9.29726362, 11.53329318, 12.24567574,  9.26596451,\n",
       "        9.18415595,  9.60849948, 10.77130486,  9.76632016,  9.80358822,\n",
       "       10.20484238,  9.95362372,  9.44602087, 10.48830888,  9.60527928,\n",
       "       10.91549694,  8.62894412, 11.10548182,  9.76203326, 10.7448493 ,\n",
       "        9.75470089,  9.25468085, 10.81945797,  9.37436564,  9.90477519,\n",
       "        8.47317817,  8.26375194,  8.82840187, 10.85846505, 10.06999864,\n",
       "       10.79874347, 11.10881407, 10.26928294,  9.30274894,  9.70600445,\n",
       "        9.69414541, 12.63376239,  9.04077819, 10.76841622, 10.04952114,\n",
       "       10.53068477,  8.83229411, 10.83933078, 10.41337201,  8.10660569,\n",
       "        9.7121435 , 10.14142576,  9.9494183 ,  9.27482878,  8.66241639,\n",
       "       10.48553424,  9.79600598, 11.70838008,  9.26069962, 11.3294856 ,\n",
       "       10.17193119,  8.28561233, 10.65210415,  9.96836424, 10.2918651 ,\n",
       "        9.32796666,  9.57999508,  8.78389862,  9.67293152, 10.32943203,\n",
       "        9.9149236 , 10.29416931, 11.12206069, 10.6021459 , 10.38919867,\n",
       "        9.48973068,  9.53398367, 10.67873094, 11.89934129, 10.23418403,\n",
       "        9.83649483,  9.52897673,  9.44440072,  9.89229513,  9.17356953,\n",
       "       10.2990778 ,  9.78566197, 11.43695879, 10.64044513, 10.91139836,\n",
       "        9.84794377,  9.70736636, 11.5439513 ,  9.48775474,  9.17511362,\n",
       "        8.85698506,  9.85693931,  9.42949244,  9.66677908, 10.16760342,\n",
       "       10.91892395, 10.43693705,  9.39928364,  8.49764374,  9.06032179,\n",
       "       10.28030998,  9.62707853,  9.26990041, 12.2089464 , 10.81760408,\n",
       "        8.98849898,  9.03648302,  9.75958654,  9.61094039, 10.90286765,\n",
       "        8.01555794, 10.35469399,  7.32780457, 10.15227432,  8.47766055,\n",
       "       10.70846757, 10.98980101,  9.16147901,  8.60537602, 10.11031191,\n",
       "        8.20600276,  9.77509139,  9.02000203,  8.98188181, 10.21526712,\n",
       "       10.25627514,  9.75293797, 11.24448355,  9.49410077,  8.78915279,\n",
       "       11.37150994,  9.45842535,  9.39469892, 10.02164125,  9.62579978,\n",
       "        9.69682273,  8.79885543, 10.5909179 ,  9.5026067 , 10.57052405,\n",
       "        9.03210857, 10.28988444,  8.93975362, 10.68016016,  9.33535451,\n",
       "       10.76166368,  9.43760623, 10.65820867, 11.15380036, 10.47581555,\n",
       "        8.55767358,  9.82569975,  8.50619889, 12.13551704, 10.68409161,\n",
       "        9.45240736, 11.24554704, 11.26742962, 11.67920944,  9.88274146,\n",
       "        7.6412807 , 10.27671186, 10.03813578, 11.08752117, 10.91462612,\n",
       "        8.56586992, 10.22284961,  9.85078132,  9.96438552,  9.65274222,\n",
       "        9.97984303, 10.17553033, 12.15806927,  7.30871758, 10.21650933,\n",
       "        9.49110509, 10.28492375, 10.61138528,  9.51648384,  9.42177233,\n",
       "       11.62826782,  8.35521684,  9.92814252, 11.26383875, 10.98259303,\n",
       "        9.3872988 , 11.50940257, 11.19566493, 10.66068546,  9.37898784,\n",
       "       10.48625267, 10.03493364, 10.99314527, 10.01281667, 11.06725789,\n",
       "       11.9192186 , 12.03105624,  9.78247595,  8.34241692, 11.4001043 ,\n",
       "       11.85090107, 10.63879508,  8.11468716,  8.87314293, 10.81077821,\n",
       "       10.10790327,  8.14727308, 10.90437254,  8.55225497,  9.97492151,\n",
       "        9.89316756,  8.62081389, 12.32597366, 10.42745174, 11.61312929,\n",
       "       10.46468682,  9.10238806, 11.72987786, 10.43990322, 10.34974567,\n",
       "       10.98163178,  9.4515144 ,  9.86974642, 10.11623165,  9.89526282,\n",
       "       11.01834296, 10.48909816,  9.94127787,  9.51498946,  8.91637319,\n",
       "       10.12106551, 10.01567751, 10.48863314,  9.51036868, 10.55340936,\n",
       "        9.85480076,  9.91301159, 10.54485566, 10.68131506, 10.71538341,\n",
       "        7.10813448, 10.37746498,  9.59380872, 11.46004085, 10.67098708,\n",
       "       11.16740713, 10.072766  ,  9.20485593,  9.43551759, 10.03237036,\n",
       "       10.78988978,  9.77615232,  9.18439145, 10.5138166 , 11.6998926 ,\n",
       "       11.96576479, 10.2216754 , 10.94482299, 11.52562834,  9.24985342,\n",
       "       10.64850239,  9.14599219,  8.74434709, 11.04649374, 11.27945747,\n",
       "        9.82376524,  8.86323216,  9.89799455, 10.73181793,  8.60266763,\n",
       "        9.94448241,  9.89255003,  8.70409741, 11.63136951,  7.29302882,\n",
       "       12.20562091, 11.00313548,  8.99146839,  8.65528079, 11.50667285,\n",
       "       10.12818255, 10.25093589, 11.15978049,  8.49376754,  9.95651117,\n",
       "        9.48817803,  8.7086446 ,  9.53432141, 10.38094979,  9.50843922,\n",
       "       10.89917429,  9.70955976, 10.20830314, 10.32758795,  9.04602409,\n",
       "       11.48615873,  8.68188791,  9.70575847,  9.47908929,  8.37450524,\n",
       "        9.58591636, 10.23666588, 10.48644515, 11.44813578, 11.54075792,\n",
       "        9.50713799, 11.21651698,  9.22006309, 11.27409917,  8.02049237,\n",
       "        9.60923108,  9.72221225,  9.44385068,  9.86957968,  9.44274568,\n",
       "       10.58866948, 12.23110709,  9.45696048, 10.69415275, 10.89938157,\n",
       "       11.21430893, 11.17476763,  9.58784556,  9.1356062 ,  7.25008137,\n",
       "        9.60175786,  8.84616299,  9.60524648,  9.27042075, 12.44790784,\n",
       "       10.29277423,  9.79879472, 10.28346663, 11.33661261, 10.13268821,\n",
       "       10.98158258, 11.11052383, 10.44688479, 10.49162606, 11.10926428,\n",
       "       11.118421  ,  8.98027513,  9.16380007, 10.26196887,  9.69437945,\n",
       "        9.3104397 ,  8.78542882, 10.31537322,  8.04608698, 11.43009427,\n",
       "       10.67402303, 10.50349326,  9.76909017, 10.94832389, 10.08194604,\n",
       "       10.66260147,  8.91268691, 11.25889572, 12.24064857, 11.31695553,\n",
       "       10.93389539,  9.20997918, 10.70298991,  9.05255347,  9.96484481,\n",
       "       10.86113669, 10.99453876,  8.94298476, 10.94964762, 10.39058177,\n",
       "       10.12572481, 10.5607967 ,  8.72472155, 10.14345253,  8.17876972,\n",
       "        9.58158797, 11.02593733,  9.50074667,  8.81736918, 11.38019397,\n",
       "        9.01479419, 13.70396818, 11.21582233,  9.62549486,  8.19258829,\n",
       "        9.1465319 , 11.8959999 , 12.20346226, 10.39154081,  9.44308242,\n",
       "       10.4937664 , 10.39736121,  9.70592053,  8.18641527,  8.5343838 ,\n",
       "        9.79596849, 10.25112155, 11.46539529, 10.03016131, 10.3289727 ,\n",
       "       10.34346974,  9.37005972,  8.65793106, 10.07670727,  9.95867404,\n",
       "        9.83295551, 10.08332364, 11.37409133,  8.93834135, 10.54927234,\n",
       "        9.90657199, 11.52484474, 10.42850941,  8.98258201,  9.89849553,\n",
       "       12.13735835, 10.17956933, 11.22438752, 11.6771982 , 11.91571388,\n",
       "        7.47152547, 10.15977325, 10.13423888,  9.22351761, 10.03125027,\n",
       "       12.00025981,  9.29588783, 10.51164994,  9.95806838, 11.47634381,\n",
       "        9.80742789,  9.87793749, 10.15286083,  9.64235205,  9.36245269,\n",
       "       10.30520998,  9.62509926,  9.41141411,  8.9674904 ,  9.70021786,\n",
       "        9.98810528,  9.39733847, 10.39509413, 10.95000622,  9.86475867,\n",
       "        9.04423444, 10.13828735,  9.61965983,  9.45266275,  8.89242567,\n",
       "        9.67084021,  9.86365904, 10.15933568,  8.87450929, 11.02190516,\n",
       "        9.8512534 ,  7.86892925, 10.83965814,  7.92165196, 10.55257057,\n",
       "       11.32022968, 10.15580645,  9.34727948, 10.20375028, 10.10124078,\n",
       "        9.35616721,  8.09300087,  9.16342635, 10.65361253, 11.6701536 ])"
      ]
     },
     "execution_count": 26,
     "metadata": {},
     "output_type": "execute_result"
    }
   ],
   "source": [
    "c = norm_gen(10, 1, 1000)\n",
    "c"
   ]
  },
  {
   "cell_type": "code",
   "execution_count": 27,
   "metadata": {
    "ExecuteTime": {
     "end_time": "2019-08-27T18:50:48.771208Z",
     "start_time": "2019-08-27T18:50:48.747691Z"
    }
   },
   "outputs": [
    {
     "data": {
      "text/plain": [
       "array([-3.78805548e+01,  3.99860719e+01,  7.48269520e+01, -3.25756470e+01,\n",
       "        1.44034868e+01,  1.17255732e+02,  7.15882534e+00,  1.83694202e+01,\n",
       "        2.13362175e+01, -2.27880138e+01,  8.18679418e+01, -8.21281453e+01,\n",
       "        4.48919560e+00,  2.14444506e+01, -6.42579433e+01,  6.10222379e+01,\n",
       "        8.87460373e+00,  3.15865665e+01, -9.42965764e+01, -3.35162189e+01,\n",
       "       -2.09534555e+01, -6.89978094e+01, -3.05899498e+01, -8.92956151e+01,\n",
       "        3.16280902e+01, -2.99670562e+01,  3.46863550e+01,  1.22370418e+02,\n",
       "       -5.38651184e+00,  1.48773382e+01,  1.19213476e+02,  8.81946188e-01,\n",
       "        3.91935650e+01, -6.40538415e+01, -5.36344531e+01, -8.32457993e-01,\n",
       "       -1.85719209e+01,  6.64915785e+01,  8.90723961e+01, -5.07629097e+00,\n",
       "        3.32265951e+01, -6.72134508e-01,  1.84630100e+01, -2.32194440e+01,\n",
       "        5.64790144e+01,  7.06799762e+01,  6.90514598e+01, -5.15542933e+00,\n",
       "        1.03863623e+02,  6.17762892e+01, -2.83789907e+01,  7.31268997e+01,\n",
       "        1.23461624e+01, -3.26308122e+01,  9.60018256e+00, -9.19993761e+01,\n",
       "        9.50787250e+01, -9.42640166e+01, -2.71919589e+01,  5.52155607e+01,\n",
       "       -3.17961119e+00,  4.56775302e+01,  6.98114784e+01, -1.72516757e+00,\n",
       "       -6.36729808e+01, -1.94886173e+01, -7.59376176e+01,  3.81169557e+01,\n",
       "       -5.23192675e+01,  1.98348358e+01,  2.59700820e+01,  4.99570314e+01,\n",
       "        4.49257749e+01,  3.09119036e+01,  8.09188427e+01,  6.17660824e+00,\n",
       "       -1.50331938e+01,  1.17707399e-03, -3.72147582e-02,  6.35734979e+01,\n",
       "       -5.45568959e+01,  1.90819239e+01,  8.61396962e-01,  3.70702850e+01,\n",
       "        3.26783620e+01, -8.59729080e+00, -6.83290074e+00,  6.11714141e+01,\n",
       "        4.27138792e+01,  9.48995982e+00,  7.46965535e+01,  9.56031854e+00,\n",
       "       -2.40431739e+01,  1.88005517e+01,  5.91779940e+01,  1.51766424e+01,\n",
       "        5.39970510e+01, -3.64921364e+01,  4.10455019e+01,  2.52492928e+01,\n",
       "        4.58697524e+01,  6.42440695e+01,  1.76062623e+01,  3.62785793e+01,\n",
       "       -3.20188807e+01, -2.76421332e+01,  3.54305276e+01,  2.55158623e+01,\n",
       "        5.32283830e+01,  6.83570448e+01, -1.24528539e+02,  5.78957323e+01,\n",
       "        1.37398859e+01,  1.05032154e+02, -2.49240560e+01,  2.71610840e+01,\n",
       "        6.12763381e+01,  1.04837159e+02, -4.32378970e+01,  2.02470553e+01,\n",
       "       -1.59126013e+01, -1.32662070e+01,  2.04275869e+01,  4.71877499e+01,\n",
       "        1.84075244e+01, -1.31367904e+02, -6.66857039e+01,  4.07352682e+01,\n",
       "       -6.11621124e+01,  2.20142114e+01, -1.88739543e+01,  3.24960812e+00,\n",
       "        7.21355769e+01, -1.05002472e+00,  4.95402645e+01,  2.72497902e+01,\n",
       "       -4.93069690e+01,  2.51714650e+01, -1.49149871e+01,  4.18593226e+01,\n",
       "        5.39567780e+01,  4.12701824e+00,  1.14716139e+02,  8.22574825e+01,\n",
       "       -6.37412783e+00,  2.39624046e+00, -5.19209305e+00, -4.16531744e+01,\n",
       "        2.85787443e+01, -5.11388470e+01, -6.13261290e+01, -5.28090888e+01,\n",
       "        7.40867296e+00, -3.23613544e+01,  2.35056908e+01,  9.71525849e+01,\n",
       "       -2.25250050e-01,  1.43716194e+02, -8.50525784e-01, -2.21563651e+01,\n",
       "        5.07385936e+01,  3.44962712e+01,  5.77435122e+00, -1.38671145e+01,\n",
       "       -2.01940324e+01, -3.26134996e+01,  6.55227875e+01,  1.04153046e+02,\n",
       "       -8.92371099e+00, -7.84833704e+01,  7.69075982e+01,  3.06519827e+01,\n",
       "        4.11158371e+01, -3.53279679e+01, -2.00602206e+01, -2.59398253e+01,\n",
       "        1.22126959e+02, -8.45027174e+01,  2.74455130e+01,  5.51696898e+01,\n",
       "       -1.12002927e+02, -8.23607995e+01, -4.40281336e+01,  5.08941135e+01,\n",
       "        4.02774940e+01, -1.24592465e+01, -2.90249980e+01, -7.28048086e+01,\n",
       "       -2.38806718e+01,  2.28756185e+01,  3.98184277e+01,  3.30209686e+01,\n",
       "        1.52970577e+01,  7.31067642e+01, -3.52564482e+01,  5.05048121e+01,\n",
       "        5.60216188e+01,  1.48572439e+01,  8.43907127e+01,  4.94506373e+01,\n",
       "        3.06167452e+01,  3.19346894e+01, -2.97282715e+01, -1.42983458e+01,\n",
       "        1.36159091e+01,  5.46661226e+01, -7.15536648e+00,  7.37092897e+01,\n",
       "       -8.73743754e+01, -7.34275788e+00,  2.71222402e+00,  5.47443465e+01,\n",
       "       -3.18833980e+00,  6.15719771e+01,  1.90787182e+01,  4.18610435e+00,\n",
       "       -5.56304264e+01, -5.83049607e+01, -3.68404985e+01,  3.51815837e+01,\n",
       "        1.95012151e+01, -1.55414347e+00,  8.74084140e+01,  3.93132470e+01,\n",
       "        6.56523924e+01, -4.36978939e+01, -4.13756527e+00,  1.98278079e+01,\n",
       "        6.42007886e+00,  2.23133205e+01, -6.05203267e+01,  3.49978376e+01,\n",
       "       -1.61158391e+00,  4.05571317e+00,  9.73695518e+01,  4.82721908e+01,\n",
       "       -2.58096964e+01,  2.56624392e+01, -6.18167713e+01, -3.00235427e+01,\n",
       "        1.99896807e+01, -5.81891900e+00,  2.45162894e+01,  5.19615748e+01,\n",
       "        5.21882177e+01,  2.27435732e+01, -4.10158020e+01,  1.39660006e+01,\n",
       "        7.33334236e+00,  1.44474303e+01,  5.06220363e+01,  2.25590094e+01,\n",
       "        4.44070240e+01,  5.58340390e+01, -1.08051201e+02, -8.51061316e+01,\n",
       "       -2.05994850e+01,  9.47468378e+01,  5.08047892e+01, -4.18014854e+01,\n",
       "       -5.82400105e+01, -1.14317118e+01,  5.99926021e+01,  4.77166482e+01,\n",
       "       -4.87996729e+01, -2.22785692e+00, -6.17631644e+01, -4.96418894e+00,\n",
       "        1.12108918e+02, -3.75884308e+01, -7.13018787e+01,  4.07924650e+01,\n",
       "        5.38181580e+00,  1.49654548e+01, -3.71506297e+00, -8.05441744e+01,\n",
       "       -2.55451079e+01, -7.49210262e+01, -5.22253439e+00, -8.91630585e+01,\n",
       "        6.41959096e+01,  5.98886063e+01,  3.37444219e+01, -7.44649570e+01,\n",
       "        5.59814045e+01,  1.69712184e+01,  9.94005934e+01,  5.66156042e+01,\n",
       "        2.75928802e+01,  4.56564177e+01,  1.76955262e+01, -1.86639030e+00,\n",
       "       -3.63928979e+01,  3.28349670e+01,  1.90880526e+01,  7.71384678e-01,\n",
       "       -1.48239201e+01,  2.22380930e+01,  1.79566051e+01,  1.97599825e+00,\n",
       "       -7.66546620e+00, -1.57101205e+01, -6.83329430e+01,  2.25490020e+01,\n",
       "        1.26552972e+01,  9.53408774e+01,  8.74603119e+01, -4.45459533e+01,\n",
       "        8.39150699e+01,  8.17670376e+00,  7.54781457e+01,  4.97693098e+01,\n",
       "        1.54461372e+01, -3.31552765e+01,  1.75478614e-02,  1.05123403e+01,\n",
       "        9.73780607e+01,  4.09846497e+01, -1.71373079e+01,  2.23540025e+01,\n",
       "        1.01219049e+02,  5.35097534e+01, -7.29970571e+01,  2.24273350e+01,\n",
       "        2.37887682e+01,  2.61329339e+01,  7.22911594e+01,  7.06400403e+01,\n",
       "        1.38285489e+01,  5.84291261e+01,  4.76574550e+01, -3.27511511e+01,\n",
       "        6.46887940e+01, -2.76074921e+01,  4.90072740e+01, -6.12350330e+00,\n",
       "        7.50653809e+01, -6.60635918e+01, -1.38852594e+01,  1.47947524e+01,\n",
       "        3.43140958e+00,  5.18253791e+01,  1.49601188e+01, -5.88148071e+01,\n",
       "       -2.86172519e+01,  2.07727741e+01, -1.56514584e+01,  6.23285142e+01,\n",
       "        9.65693729e+01, -7.81012382e+01, -2.38830482e+01,  6.64507957e+01,\n",
       "        3.25284927e+01, -2.45981435e+01, -3.42948139e+01, -6.62496622e+01,\n",
       "        4.00905182e+01, -8.36963993e+00,  2.45949909e+01,  7.89759122e+01,\n",
       "        4.83984399e+01, -5.69123078e+01,  1.42304678e+01,  9.98812639e+01,\n",
       "        1.40005044e+01,  5.00211917e+01,  3.89294069e+01, -5.61642073e+01,\n",
       "        5.60738278e+01, -7.43815626e+01,  6.95798344e+01, -2.18002994e+01,\n",
       "       -2.86420188e+01,  2.53952584e+01, -8.77701717e+01, -7.14460510e+01,\n",
       "       -6.04306769e+01,  2.81431532e+01,  3.34832462e+01,  6.35123868e+01,\n",
       "        1.59021239e+02,  3.99883484e+01, -9.41804923e+00, -2.40409698e+00,\n",
       "       -3.94575316e+01,  2.00114084e+01,  1.12357083e+02,  3.35645419e+01,\n",
       "        3.72005903e+01,  3.98216869e+01,  2.94601513e+01,  1.91089967e+01,\n",
       "       -1.66503422e+01,  9.21682723e+01, -1.52077188e+01,  2.83164755e+01,\n",
       "       -2.51371810e+01,  7.40559130e+01,  4.18679707e+01, -1.30516179e+02,\n",
       "        4.75606282e+00, -2.93246286e+01, -2.65037618e+01, -1.08486395e+01,\n",
       "       -3.29090025e+01,  2.95264010e+01, -6.61352353e+01, -2.11493495e+01,\n",
       "       -2.08788907e+01, -2.97042031e+01,  1.42100414e+02,  6.89497272e+01,\n",
       "        1.96901265e+01, -1.07094996e+01,  3.38892228e+01, -8.51099245e+00,\n",
       "        4.02135602e+01, -4.67064850e+01, -3.91078250e+01,  1.54161138e+01,\n",
       "        8.58445626e+01,  9.21075439e+01,  3.90340811e+00, -3.11371906e+01,\n",
       "        4.03308175e+01, -4.21557503e+01, -1.26371185e+01, -6.40686426e+01,\n",
       "        2.44582365e+01,  1.42245795e+01, -8.34861625e+00,  6.55872035e+01,\n",
       "        5.90373393e+01,  9.02936973e+00, -2.88902775e+01,  5.71067748e+01,\n",
       "        3.76120882e+01,  2.89961319e+01,  6.80028200e+01, -9.17860706e+00,\n",
       "        8.91579522e+01,  1.12071837e+02, -6.12960254e+01,  4.70383143e+01,\n",
       "       -8.79580939e+01, -1.09031164e+02, -7.03990553e+01,  7.45801803e+00,\n",
       "       -8.15483725e+00, -4.67786984e+01,  3.87297906e+01, -4.76468519e+01,\n",
       "        2.95177686e+01,  7.27959675e+01, -7.02185993e+01, -1.92987249e+01,\n",
       "        5.66652609e+01, -5.87260385e+01,  1.01477814e+02,  9.11606836e+01,\n",
       "        1.59137314e+01,  6.49783275e+01, -1.38338475e+01, -3.63111087e+01,\n",
       "        7.95788783e+01,  3.22105741e+01, -4.07324232e+00,  1.29078381e+01,\n",
       "       -2.18557262e+00,  9.81884980e+00,  1.13891295e+02,  1.89634769e+01,\n",
       "       -6.64888147e+01,  4.46225512e+01,  9.14730286e+01,  6.60246257e+01,\n",
       "       -2.21522605e+01,  2.37259657e+01,  1.66225398e+01, -7.62783147e+01,\n",
       "        3.03386425e+01,  1.01933407e+02, -5.61717645e+01, -7.59287600e+01,\n",
       "       -2.29864468e+01, -3.26114286e+01,  7.07508905e+01,  1.61611734e+01,\n",
       "       -8.08173833e+00,  2.81955580e+01,  3.27338353e+01,  8.50609031e+01,\n",
       "       -4.41735693e+00, -1.86346971e+01, -6.37905499e+01, -5.31569157e+01,\n",
       "       -5.77590900e+00,  6.51407312e+01,  3.90853313e+01, -1.15739018e+01,\n",
       "        1.04209118e+01,  3.09042903e+01,  1.27950642e+01, -8.99316854e+01,\n",
       "        2.62476454e+01,  3.37699731e+01,  4.28193680e+01, -9.34102432e+00,\n",
       "        9.44588215e+01,  8.86028095e+01, -2.11997558e+01,  2.06446782e+01,\n",
       "       -1.24284136e+02, -2.47659620e+01, -3.09478603e+01,  1.89216992e+01,\n",
       "       -1.77814293e+01,  8.88342795e+00,  2.99024273e+01,  3.24265758e-01,\n",
       "        7.82061839e+01,  2.34797416e+01,  3.38182149e+01,  9.52976458e+00,\n",
       "       -1.87371641e+01,  3.22065092e+01, -3.72830835e+01,  5.51867131e+01,\n",
       "        1.83050557e+01,  2.38905379e+01, -2.64270979e+01, -4.71251264e+01,\n",
       "        2.66807207e+01,  4.58077341e+01,  8.19219036e+01,  1.12198613e+01,\n",
       "       -2.83288826e+01,  3.17268955e+01,  3.34159553e+01, -8.03257503e+01,\n",
       "       -1.77914217e+01, -4.93935107e+00,  1.26376248e+02, -6.02400089e+00,\n",
       "        6.75437842e+01, -3.01796227e+00, -3.46520767e+00,  2.19243877e+01,\n",
       "       -2.23797272e+01, -5.07084188e+01,  4.79014200e+01,  8.30421221e+01,\n",
       "       -1.43215350e+01,  1.03292922e+02,  9.40403301e+00,  5.10033352e+01,\n",
       "        4.14413979e+01,  2.36984007e+00, -9.80970050e+00,  6.39094872e+01,\n",
       "       -2.47967475e+01, -5.76299386e+01, -5.72606626e+01,  1.01844854e+02,\n",
       "       -8.04484932e+01, -7.51058135e+00, -3.93993935e+01, -1.40230324e+01,\n",
       "        1.99985205e+01, -4.01054165e+01,  5.18403364e+00, -3.38063127e+01,\n",
       "        4.67700057e+01,  5.40173147e+01, -7.55334761e+01,  1.92887866e+01,\n",
       "       -1.22480618e+02, -2.17034400e+01, -2.96204453e+00, -3.45700896e+01,\n",
       "        7.78355269e+01, -4.44265673e+01, -1.58602618e+01,  5.47540831e+01,\n",
       "        3.48263477e+01, -4.88053769e+01,  4.78902443e+01,  1.42663092e+02,\n",
       "       -4.09682923e+01,  1.85343323e+01, -5.62735353e+00,  5.05105912e+01,\n",
       "        4.09329172e+01,  2.07523866e+01, -4.19842434e+01, -3.05202825e+01,\n",
       "       -4.85799089e+01, -5.26761203e+01,  2.28587772e+01,  5.17690652e+00,\n",
       "        2.90861923e+01, -9.66932804e+00, -1.90815715e+01,  9.65560356e+01,\n",
       "        2.43990733e+01,  4.35156057e+01,  8.21937682e+01,  6.30599525e+01,\n",
       "        1.63147291e+00, -2.99378486e+01,  6.85747570e+01, -1.59770647e+02,\n",
       "        8.00216856e+01, -1.06390406e+02, -1.26645841e+01,  7.67113162e+01,\n",
       "       -5.11818810e+01,  4.10140190e+01,  1.08899841e+02,  9.14224028e+01,\n",
       "       -1.90979853e+01, -2.01022905e+01,  3.43308113e+01,  2.57644421e+01,\n",
       "        1.39768687e+01,  7.96379079e+00,  5.26425946e+01, -1.74498922e+01,\n",
       "       -4.20107884e+01,  3.74873283e+01, -1.36712686e+01,  3.51654450e+01,\n",
       "        8.57432164e+01,  5.68327465e+01,  4.36038577e+01,  1.30244523e+02,\n",
       "        1.41420507e+01,  3.62582959e+00,  4.33095394e+01,  9.54824697e-01,\n",
       "        5.62673713e+01,  9.77591753e+01,  2.78044289e+01,  1.29680178e+02,\n",
       "       -4.29292115e+01,  4.32147111e+01, -5.46869409e+01,  1.76440471e+01,\n",
       "       -7.77072012e-01, -2.63126526e+01,  5.98132802e+00, -1.05323114e+01,\n",
       "        3.99904471e+01,  5.45298714e+01,  1.78781418e+01,  1.46569213e+02,\n",
       "        9.04347666e+01, -6.09037089e+01,  2.81096427e+01,  4.08726341e+01,\n",
       "        2.92915621e+00,  3.60434026e+01,  8.83939998e+01,  2.95485413e+01,\n",
       "        1.03462981e+02,  6.63311752e+01, -3.43090618e+01, -4.08929550e+01,\n",
       "       -3.12360372e+01, -1.18280473e+01,  8.06885303e+01,  8.79368816e+01,\n",
       "        1.79099720e+01,  2.16912533e+00,  3.52627549e+01, -5.27011513e+00,\n",
       "       -5.42871784e+01, -1.90170357e+00, -8.02044759e+01,  1.25431964e+01,\n",
       "       -5.46666055e+01, -8.25333359e+01,  4.05554558e+01,  8.14128667e+01,\n",
       "       -5.95141484e+01,  2.06146199e+00, -8.56904299e+00, -3.63561160e+01,\n",
       "        1.87299609e+01,  5.75692974e+01,  5.40235968e+01,  2.16972780e+01,\n",
       "        1.09855446e+02,  4.55100748e+01,  3.84937392e+01, -3.16320056e+00,\n",
       "        4.00316735e+01, -1.60907113e+00, -6.49087688e+01, -3.06659577e+01,\n",
       "       -7.29728912e+01,  6.52594719e+01, -6.46554102e+01,  3.96137162e+01,\n",
       "       -1.35145530e+02,  9.53660556e+01,  5.66443351e+01, -3.93766552e+00,\n",
       "        4.47543775e+00, -1.64489580e+00, -4.07123006e+01, -2.55700960e+01,\n",
       "        1.27278272e+01,  1.16420898e+01,  4.67895265e+01, -8.05858680e+00,\n",
       "        3.79235798e+01,  2.24426459e+01, -1.41872275e+01,  9.30954548e+00,\n",
       "        1.00035853e+01,  9.96117715e+01,  1.19184024e+00, -2.69206702e+01,\n",
       "        3.29287081e+01, -1.56585687e+01,  7.76681821e+00,  5.93966825e+01,\n",
       "        4.92430985e+01, -3.09133444e+00,  1.64680672e+02,  4.34691586e+01,\n",
       "        4.94572478e+01, -5.06004715e+01,  7.13089236e+00,  1.69703246e+01,\n",
       "        3.71504600e+01,  4.48622465e-01,  2.30060046e+01,  6.48267246e+01,\n",
       "        4.17210183e+01, -8.14979131e+01, -3.43954576e+01,  7.78206699e+01,\n",
       "       -5.42460067e+01,  1.51034657e+02, -8.45070387e+01,  3.56111264e+01,\n",
       "       -8.48648160e+01,  4.62965599e+01,  4.08548757e+01, -2.22795492e+01,\n",
       "        9.68619038e+01,  3.45712309e+01, -2.77037283e+01,  1.31682336e+02,\n",
       "        1.04008145e+02,  4.67128902e+01,  8.41273741e+01,  2.40746977e+01,\n",
       "        9.19698071e+00,  4.56746395e+01,  5.31160952e+01,  2.26866877e+01,\n",
       "       -5.64601051e+01,  4.21417419e+01, -8.98926780e-01,  6.87073287e+01,\n",
       "        3.35922361e+01, -4.01321092e+01,  5.05509889e+00, -4.49385063e+01,\n",
       "        1.10863942e+01,  7.75592647e+00,  4.55766142e+01,  3.68836357e+01,\n",
       "        4.04006985e+00,  7.70326202e+01, -2.73250845e+01, -1.32437815e+01,\n",
       "       -1.18085981e+01,  8.18229503e+01, -1.15008016e+02,  8.50391645e+01,\n",
       "        4.74021037e+01, -3.15839465e+01, -7.84903825e+00, -1.02620682e+02,\n",
       "        8.26138766e+01,  6.48432677e+01,  1.41898225e+02,  3.61786222e+01,\n",
       "       -4.67985742e+01,  1.20189260e+01,  2.90119334e+01, -4.91149121e+01,\n",
       "       -5.02321751e+01,  5.16156458e+01,  2.32354902e+01,  9.84232936e+01,\n",
       "       -5.33667191e+01,  2.17097841e+01, -3.77486999e+01,  3.95317344e+01,\n",
       "       -8.89349242e+01,  5.73897866e+01,  1.50015552e+02, -2.77181190e+01,\n",
       "        5.92917231e+01,  2.20304852e+01, -3.20685674e+01, -8.43176107e+01,\n",
       "        6.47215786e+01,  3.06160183e+01,  2.30157052e+01,  3.20819188e+01,\n",
       "        2.07615482e+00,  6.65030451e+01, -1.63613051e+01, -5.11900409e+01,\n",
       "        1.16951440e+00, -4.49155121e+01, -5.80487272e+00,  2.23157802e+01,\n",
       "        3.38110559e+01,  4.32438758e+01, -5.25494346e+01, -4.29800354e+01,\n",
       "        7.55961151e+01, -7.43465691e+01,  2.52893766e+01, -3.00802896e+01,\n",
       "        6.72377974e+01,  1.24384291e+01,  5.06155238e+01,  6.26479880e+01,\n",
       "        6.89711913e+01, -3.24296977e+01,  4.11511372e+00, -6.43194374e+00,\n",
       "       -2.72915707e+01,  1.78831094e+01, -6.37884886e+01,  1.20205604e+02,\n",
       "        1.46754971e+01,  2.03845138e+01,  6.22215349e+01, -1.11220554e+01,\n",
       "       -5.82947264e+01,  6.18351318e+01,  7.83167808e+01,  1.25175441e+02,\n",
       "       -5.43115222e+01, -3.50465221e+01,  8.86041030e+01, -5.23005528e+01,\n",
       "       -7.70709836e+01,  1.12339233e+02,  6.09616584e+00, -2.93040312e+01,\n",
       "       -7.74000486e+01,  4.23483781e+01,  9.39095033e+01, -1.13207959e+01,\n",
       "        5.59210836e+01,  2.54408901e+01,  9.16099643e+00, -4.10369509e+01,\n",
       "        9.91293666e+00,  6.08363634e+01,  4.64608559e+01,  1.39775750e+01,\n",
       "       -8.45217579e+01, -3.24390609e+01,  7.73146370e+01,  5.41109479e+01,\n",
       "        4.30543034e+01,  1.18713870e+01,  8.38732514e+01, -5.87497981e+01,\n",
       "        1.15374345e+00, -4.32418811e+01, -6.68489603e+00, -1.08185263e+01,\n",
       "        2.58978357e+01, -6.07449997e+01, -1.48762843e+01, -5.03989250e+01,\n",
       "       -3.29193317e+01,  1.31109674e+02,  5.74337842e+01,  5.00784527e+01,\n",
       "        6.15258024e+01, -1.29252798e+01, -5.22148088e+01, -2.40933018e+01,\n",
       "        4.46737907e+01, -3.08479241e+00, -2.48625702e+01, -3.13499511e+01,\n",
       "        3.73685098e+00,  9.40702157e+01, -4.96374332e+01,  3.41079466e+01,\n",
       "        1.13719751e+01,  1.33442125e+02, -1.93059666e+01, -3.66635091e-01,\n",
       "        8.68723627e+01, -3.42754710e+01, -9.23403045e-01,  2.68008946e+01,\n",
       "        2.94845639e+01,  1.20792029e+01,  8.84280291e+01, -5.23579889e+00,\n",
       "        3.03657385e+01, -2.68007073e+01, -5.76691641e+01, -4.29955113e+01,\n",
       "        7.35897949e+01,  3.60337599e+01,  3.00097239e+01, -5.56811625e+01,\n",
       "        3.06279808e+01, -7.07740192e+01, -1.11484999e+01,  1.59810038e+01,\n",
       "        6.21180386e+01, -2.24343118e+01,  7.25376173e+01,  3.73525700e+01,\n",
       "       -2.93734981e+01, -6.15928048e+01,  1.11995068e+01,  2.79570058e+01,\n",
       "        4.49570802e+01, -2.42579114e+01,  5.07500398e+01, -1.97694223e+01,\n",
       "       -4.60214951e+01,  4.59525037e+01,  6.85088468e+00,  7.35136568e+01,\n",
       "       -9.60790044e+00,  5.10945414e+01,  1.59416927e+01, -2.68681747e+01,\n",
       "        4.87850295e+01, -5.36847569e+01, -7.59046484e+01,  2.38291543e+01,\n",
       "        8.52718546e+01,  3.43148414e+01,  6.62493077e+01, -1.03777387e+01,\n",
       "        7.56567202e+01,  2.45513137e+01,  1.35508041e+01, -2.11287343e+00,\n",
       "        8.22699888e+00,  3.17538549e+01,  5.39744559e+00,  6.61878133e+01,\n",
       "        1.15140499e+01, -2.55418514e+01,  1.36738010e+02, -4.56983291e+01,\n",
       "       -4.49072496e+01, -1.86876553e+01, -2.79098288e+01,  7.46083165e+00,\n",
       "        1.64675206e+01, -9.05311432e+00, -3.51562818e+01, -9.33749031e+01,\n",
       "       -4.94015432e+01,  6.31148944e+01,  6.21856722e+01,  5.05384055e+01,\n",
       "        6.17399724e+01, -1.08130340e+01, -6.44529882e+00, -3.91903379e+01,\n",
       "       -4.13751434e+01,  8.91110061e+01,  1.98438414e+01, -6.50848008e+01,\n",
       "       -3.24831431e+00,  2.42580046e+01,  1.28928004e+02,  7.33206867e+01,\n",
       "        5.61183958e+01,  2.33322103e+01, -5.00008444e+01,  7.09841640e+00,\n",
       "        1.53144177e+00, -3.59988717e+01,  7.33869195e+01, -3.17587494e+01])"
      ]
     },
     "execution_count": 27,
     "metadata": {},
     "output_type": "execute_result"
    }
   ],
   "source": [
    "d = norm_gen(10, 50, 1000)\n",
    "d"
   ]
  },
  {
   "cell_type": "code",
   "execution_count": 30,
   "metadata": {
    "ExecuteTime": {
     "end_time": "2019-08-27T18:52:58.596277Z",
     "start_time": "2019-08-27T18:52:58.077599Z"
    }
   },
   "outputs": [
    {
     "data": {
      "image/png": "[encoded data removed]",
      "text/plain": [
       "<Figure size 1008x504 with 2 Axes>"
      ]
     },
     "metadata": {
      "needs_background": "light"
     },
     "output_type": "display_data"
    }
   ],
   "source": [
    "f, [ax1, ax2] = plt.subplots(1, 2, figsize=(14,7))\n",
    "plt.sca(ax1)\n",
    "plt.hist(c, bins=100)\n",
    "\n",
    "plt.sca(ax2)\n",
    "plt.hist(d, bins=100)\n",
    "\n",
    "plt.show()"
   ]
  },
  {
   "cell_type": "markdown",
   "metadata": {},
   "source": [
    "How are the two distributions different?"
   ]
  },
  {
   "cell_type": "code",
   "execution_count": 4,
   "metadata": {
    "ExecuteTime": {
     "end_time": "2019-08-02T06:07:54.816439Z",
     "start_time": "2019-08-02T06:07:54.814409Z"
    }
   },
   "outputs": [],
   "source": [
    "# different distrubiton around the mean (x-axis)"
   ]
  },
  {
   "cell_type": "markdown",
   "metadata": {},
   "source": [
    "## Normal Distribution of Real Data\n",
    "\n",
    "In this challenge we are going to take a look the real data. We will use vehicles.csv file for this exercise"
   ]
  },
  {
   "cell_type": "code",
   "execution_count": 29,
   "metadata": {
    "ExecuteTime": {
     "end_time": "2019-08-27T18:52:46.503970Z",
     "start_time": "2019-08-27T18:52:46.407066Z"
    }
   },
   "outputs": [],
   "source": [
    "veh = pd.read_csv('vehicles.csv')"
   ]
  },
  {
   "cell_type": "markdown",
   "metadata": {},
   "source": [
    "First import vehicles.csv.\n",
    "Then plot the histograms for the following variables:\n",
    "\n",
    "1. Fuel Barrels/Year"
   ]
  },
  {
   "cell_type": "code",
   "execution_count": 36,
   "metadata": {
    "ExecuteTime": {
     "end_time": "2019-08-27T18:55:14.196363Z",
     "start_time": "2019-08-27T18:55:14.006518Z"
    }
   },
   "outputs": [
    {
     "data": {
      "image/png": "[encoded data removed]",
      "text/plain": [
       "<Figure size 720x360 with 1 Axes>"
      ]
     },
     "metadata": {
      "needs_background": "light"
     },
     "output_type": "display_data"
    }
   ],
   "source": [
    "f, ax = plt.subplots(figsize=(10,5))\n",
    "plt.hist(veh['Fuel Barrels/Year'], bins=25)\n",
    "plt.show()"
   ]
  },
  {
   "cell_type": "markdown",
   "metadata": {},
   "source": [
    "2. CO2 Emission Grams/Mile "
   ]
  },
  {
   "cell_type": "code",
   "execution_count": 39,
   "metadata": {
    "ExecuteTime": {
     "end_time": "2019-08-27T18:55:54.740806Z",
     "start_time": "2019-08-27T18:55:54.552215Z"
    }
   },
   "outputs": [
    {
     "data": {
      "image/png": "[encoded data removed]",
      "text/plain": [
       "<Figure size 720x360 with 1 Axes>"
      ]
     },
     "metadata": {
      "needs_background": "light"
     },
     "output_type": "display_data"
    }
   ],
   "source": [
    "f, ax = plt.subplots(figsize=(10,5))\n",
    "plt.hist(veh['CO2 Emission Grams/Mile'], bins=25)\n",
    "plt.show()"
   ]
  },
  {
   "cell_type": "markdown",
   "metadata": {},
   "source": [
    "3. Combined MPG"
   ]
  },
  {
   "cell_type": "code",
   "execution_count": 40,
   "metadata": {
    "ExecuteTime": {
     "end_time": "2019-08-27T18:56:16.390307Z",
     "start_time": "2019-08-27T18:56:16.191464Z"
    }
   },
   "outputs": [
    {
     "data": {
      "image/png": "[encoded data removed]",
      "text/plain": [
       "<Figure size 720x360 with 1 Axes>"
      ]
     },
     "metadata": {
      "needs_background": "light"
     },
     "output_type": "display_data"
    }
   ],
   "source": [
    "f, ax = plt.subplots(figsize=(10,5))\n",
    "plt.hist(veh['Combined MPG'], bins=25)\n",
    "plt.show()"
   ]
  },
  {
   "cell_type": "markdown",
   "metadata": {},
   "source": [
    "Which one(s) of the variables are nearly normally distributed? How do you know?"
   ]
  },
  {
   "cell_type": "code",
   "execution_count": 6,
   "metadata": {
    "ExecuteTime": {
     "end_time": "2019-08-02T06:07:54.886563Z",
     "start_time": "2019-08-02T06:07:54.883451Z"
    }
   },
   "outputs": [],
   "source": [
    "# barrels & emission relatively normal, MPG left skew"
   ]
  },
  {
   "cell_type": "markdown",
   "metadata": {},
   "source": [
    "## Exponential Distribution"
   ]
  },
  {
   "cell_type": "markdown",
   "metadata": {},
   "source": [
    "1. Using `numpy.random.exponential`, create a function that returns a list of numbers exponentially distributed with the mean of 10. \n",
    "\n",
    "1. Use the function to generate two number sequences with the size of 1 and 100.\n",
    "\n",
    "1. Plot the distributions as histograms with the nubmer of bins as 100."
   ]
  },
  {
   "cell_type": "code",
   "execution_count": 47,
   "metadata": {
    "ExecuteTime": {
     "end_time": "2019-08-27T19:02:18.152390Z",
     "start_time": "2019-08-27T19:02:18.142977Z"
    }
   },
   "outputs": [],
   "source": [
    "def expon_gen(size):\n",
    "    x = np.random.exponential(scale=1/10, size=size)\n",
    "    return x"
   ]
  },
  {
   "cell_type": "code",
   "execution_count": 48,
   "metadata": {
    "ExecuteTime": {
     "end_time": "2019-08-27T19:02:18.562714Z",
     "start_time": "2019-08-27T19:02:18.552291Z"
    }
   },
   "outputs": [
    {
     "data": {
      "text/plain": [
       "array([0.01646692, 0.15553386, 0.01988858, 0.21819574, 0.05468688,\n",
       "       0.10557023, 0.05572545, 0.3174874 , 0.1263353 , 0.24357146,\n",
       "       0.19787915, 0.35709074, 0.00110869, 0.05016402, 0.05046242,\n",
       "       0.35116702, 0.16946787, 0.08016856, 0.140882  , 0.23059444,\n",
       "       0.05917125, 0.21972104, 0.16594355, 0.03437894, 0.3098597 ,\n",
       "       0.24218523, 0.00560192, 0.08056726, 0.03946903, 0.06017156,\n",
       "       0.31927179, 0.15159503, 0.41799996, 0.08811857, 0.02245629,\n",
       "       0.01050662, 0.037926  , 0.00922902, 0.12917211, 0.01771577,\n",
       "       0.3430281 , 0.0171509 , 0.05674377, 0.01126284, 0.17635682,\n",
       "       0.00431196, 0.1907892 , 0.13871275, 0.0776143 , 0.02317975,\n",
       "       0.14356811, 0.04170994, 0.0962371 , 0.01970597, 0.13290193,\n",
       "       0.07861687, 0.05055759, 0.14510164, 0.05352638, 0.06221482,\n",
       "       0.0481406 , 0.01934667, 0.46093578, 0.07013689, 0.08864514,\n",
       "       0.50266254, 0.03227619, 0.02130724, 0.1632275 , 0.08148445,\n",
       "       0.04279267, 0.17520825, 0.1288182 , 0.15053303, 0.05716721,\n",
       "       0.02574469, 0.01745697, 0.07243262, 0.00090172, 0.1047338 ,\n",
       "       0.12282106, 0.04778504, 0.19612336, 0.02839433, 0.12622309,\n",
       "       0.249988  , 0.04130485, 0.03304907, 0.14144319, 0.0065978 ,\n",
       "       0.31020224, 0.31107134, 0.14494053, 0.02121227, 0.06317423,\n",
       "       0.0249586 , 0.05030193, 0.14971108, 0.00363554, 0.05126769])"
      ]
     },
     "execution_count": 48,
     "metadata": {},
     "output_type": "execute_result"
    }
   ],
   "source": [
    "e = expon_gen(100)\n",
    "e"
   ]
  },
  {
   "cell_type": "code",
   "execution_count": 56,
   "metadata": {
    "ExecuteTime": {
     "end_time": "2019-08-27T19:04:52.000897Z",
     "start_time": "2019-08-27T19:04:51.994998Z"
    }
   },
   "outputs": [
    {
     "data": {
      "text/plain": [
       "array([0.18088974])"
      ]
     },
     "execution_count": 56,
     "metadata": {},
     "output_type": "execute_result"
    }
   ],
   "source": [
    "g = expon_gen(1)\n",
    "g"
   ]
  },
  {
   "cell_type": "code",
   "execution_count": 57,
   "metadata": {
    "ExecuteTime": {
     "end_time": "2019-08-27T19:04:53.328987Z",
     "start_time": "2019-08-27T19:04:52.836647Z"
    }
   },
   "outputs": [
    {
     "data": {
      "image/png": "[encoded data removed]",
      "text/plain": [
       "<Figure size 1008x504 with 2 Axes>"
      ]
     },
     "metadata": {
      "needs_background": "light"
     },
     "output_type": "display_data"
    }
   ],
   "source": [
    "f, [ax1, ax2] = plt.subplots(1, 2, figsize=(14,7))\n",
    "plt.sca(ax1)\n",
    "plt.hist(e, bins=100)\n",
    "\n",
    "plt.sca(ax2)\n",
    "plt.hist(g, bins=100)\n",
    "\n",
    "plt.show()"
   ]
  },
  {
   "cell_type": "markdown",
   "metadata": {},
   "source": [
    "How are the two distributions different?"
   ]
  },
  {
   "cell_type": "code",
   "execution_count": 8,
   "metadata": {
    "ExecuteTime": {
     "end_time": "2019-08-02T06:07:55.068339Z",
     "start_time": "2019-08-02T06:07:55.065924Z"
    }
   },
   "outputs": [],
   "source": [
    "# no variation can be see when size =1"
   ]
  },
  {
   "cell_type": "markdown",
   "metadata": {},
   "source": [
    "## Exponential Distribution of Real Data\n",
    "\n",
    "Suppose that the amount of time one spends in a bank is exponentially distributed with mean as 10 minutes (i.e. λ = 1/10). What is the probability that a customer will spend less than fifteen minutes in the bank? \n",
    "\n",
    "Write a code in python to solve this problem"
   ]
  },
  {
   "cell_type": "code",
   "execution_count": 70,
   "metadata": {
    "ExecuteTime": {
     "end_time": "2019-08-27T19:12:49.671660Z",
     "start_time": "2019-08-27T19:12:49.654714Z"
    }
   },
   "outputs": [
    {
     "data": {
      "text/plain": [
       "0.9999996619256516"
      ]
     },
     "execution_count": 70,
     "metadata": {},
     "output_type": "execute_result"
    }
   ],
   "source": [
    "# Hint: This is same as saying P(x<15)\n",
    "from scipy.stats import expon\n",
    "h = expon(1/10).cdf(15)\n",
    "h"
   ]
  },
  {
   "cell_type": "markdown",
   "metadata": {},
   "source": [
    "What is the probability that the customer will spend more than 15 minutes"
   ]
  },
  {
   "cell_type": "code",
   "execution_count": 72,
   "metadata": {
    "ExecuteTime": {
     "end_time": "2019-08-27T19:13:41.133727Z",
     "start_time": "2019-08-27T19:13:41.122881Z"
    }
   },
   "outputs": [
    {
     "data": {
      "text/plain": [
       "3.3807434840493755e-07"
      ]
     },
     "execution_count": 72,
     "metadata": {},
     "output_type": "execute_result"
    }
   ],
   "source": [
    "i = 1 - h\n",
    "i"
   ]
  }
 ],
 "metadata": {
  "hide_input": false,
  "kernelspec": {
   "display_name": "Python 3",
   "language": "python",
   "name": "python3"
  },
  "language_info": {
   "codemirror_mode": {
    "name": "ipython",
    "version": 3
   },
   "file_extension": ".py",
   "mimetype": "text/x-python",
   "name": "python",
   "nbconvert_exporter": "python",
   "pygments_lexer": "ipython3",
   "version": "3.6.8"
  },
  "toc": {
   "base_numbering": 1,
   "nav_menu": {},
   "number_sections": true,
   "sideBar": true,
   "skip_h1_title": false,
   "title_cell": "Table of Contents",
   "title_sidebar": "Contents",
   "toc_cell": false,
   "toc_position": {},
   "toc_section_display": true,
   "toc_window_display": false
  },
  "varInspector": {
   "cols": {
    "lenName": 16,
    "lenType": 16,
    "lenVar": 40
   },
   "kernels_config": {
    "python": {
     "delete_cmd_postfix": "",
     "delete_cmd_prefix": "del ",
     "library": "var_list.py",
     "varRefreshCmd": "print(var_dic_list())"
    },
    "r": {
     "delete_cmd_postfix": ") ",
     "delete_cmd_prefix": "rm(",
     "library": "var_list.r",
     "varRefreshCmd": "cat(var_dic_list()) "
    }
   },
   "types_to_exclude": [
    "module",
    "function",
    "builtin_function_or_method",
    "instance",
    "_Feature"
   ],
   "window_display": false
  }
 },
 "nbformat": 4,
 "nbformat_minor": 2
}
